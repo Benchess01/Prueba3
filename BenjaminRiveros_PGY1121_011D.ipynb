{
  "cells": [
    {
      "cell_type": "markdown",
      "metadata": {
        "id": "view-in-github",
        "colab_type": "text"
      },
      "source": [
        "<a href=\"https://colab.research.google.com/github/Benchess01/Prueba3/blob/main/BenjaminRiveros_PGY1121_011D.ipynb\" target=\"_parent\"><img src=\"https://colab.research.google.com/assets/colab-badge.svg\" alt=\"Open In Colab\"/></a>"
      ]
    },
    {
      "cell_type": "code",
      "execution_count": null,
      "metadata": {
        "colab": {
          "background_save": true,
          "base_uri": "https://localhost:8080/"
        },
        "id": "o49ie4x5Fzgw",
        "outputId": "74d9fba9-65c8-4e38-e3b3-b807a5e7b963"
      },
      "outputs": [
        {
          "metadata": {
            "tags": null
          },
          "name": "stdout",
          "output_type": "stream",
          "text": [
            "HOLA!,Bienvenido al Registro de Ciudadanos\n",
            "Pueblo del sur de Andalucía, España\")\n",
            "======================================\n",
            "\n",
            "-----<Menu Principal>-----\n",
            "1) Guardar datos en el sistema\n",
            "2) Desea buscar alguna persona?\n",
            "3) Imprimir certificados disponibles(Nacimiento- Estado conyugal- Perteneciente a la Union Europea)\n",
            "4) Abandonar el sistema\n"
          ]
        }
      ],
      "source": [
        "import random\n",
        "\n",
        "\n",
        "def grabar_registro(registro):\n",
        "    nif = input(\"Ingrese el NIF(12 caracteres): \")\n",
        "    while not validar_nif(nif):\n",
        "        print(\"NIF incorrecto, intente nuevamente\")\n",
        "        nif = input(\"Ingrese el NIF): \")\n",
        "\n",
        "    nombre = input(\"Ingrese el nombre: \")\n",
        "    while len(nombre) < 8:\n",
        "        print(\"El nombre debe tener al menos 8 caracteres, intente nuevamente\")\n",
        "        nombre = input(\"Ingrese el nombre: \")\n",
        "\n",
        "    edad = int(input(\"Ingrese la edad(La edad tiene que ser obligatiriamente 18): \"))\n",
        "    while edad < 0:\n",
        "        print(\"La edad debe ser un número positivo, intente nuevamente\")\n",
        "        edad = int(input(\"Ingrese la edad: \"))\n",
        "\n",
        "    registro.append({\"NIF\": nif, \"Nombre\": nombre, \"Edad\": edad})\n",
        "\n",
        "    print(\"<<<REGISTRO ALMACENADO CON TOTAL EXITO>>>>\")\n",
        "\n",
        "\n",
        "def validar_nif(nif):\n",
        "    if len(nif) != 12 or not nif[:12].isdigit():\n",
        "        return False\n",
        "    return True\n",
        "\n",
        "\n",
        "def buscar_persona(registro):\n",
        "    nif = input(\"Ingrese el NIF de la persona a buscar: \")\n",
        "    for persona in registro:\n",
        "        if persona[\"NIF\"] == nif:\n",
        "            print(\"Información personal:\")\n",
        "            print(\"NIF:\", persona[\"NIF\"])\n",
        "            print(\"Nombre:\", persona[\"Nombre\"])\n",
        "            print(\"Edad:\", persona[\"Edad\"])\n",
        "\n",
        "            if nif[:2] == \"00\":\n",
        "                print(\"La persona no pertenece a la Unión Europea.\")\n",
        "            else:\n",
        "                print(\"La persona pertenece a la Unión Europea.\")\n",
        "\n",
        "            return\n",
        "\n",
        "    print(\"La persona no está registrada\")\n",
        "\n",
        "def imprimir_certificados(registro):\n",
        "    certificados = [\n",
        "        {\"Certificado\": \"<<<Certificado de Nacimiento>>>\", \"Campos\": [\"fecha\", \"lugar\"]},\n",
        "        {\"Certificado\": \"<<<Estado Conyugal\", \"Campos>>>\": [\"estado\", \"cónyuge\"]},\n",
        "        {\"Certificado\": \"<<<Pertenencia a la Unión Europea>>>\", \"Campos\": []}\n",
        "    ]\n",
        "\n",
        "    nif = input(\"Ingrese el NIF de la persona para imprimir los certificados disponibles: \")\n",
        "    for persona in registro:\n",
        "        if persona[\"NIF\"] == nif:\n",
        "            print(\"Certificados de\", persona[\"Nombre\"], \"con NIF\", persona[\"NIF\"] + \":\")\n",
        "\n",
        "            for certificado in certificados:\n",
        "                print(certificado[\"Certificado\"])\n",
        "                for campo in certificado[\"Campos\"]:\n",
        "                    valor = input(\"Ingrese el dato necesario \" + campo + \": \")\n",
        "                    print(campo + \":\", valor)\n",
        "                print()\n",
        "\n",
        "            return\n",
        "\n",
        "    print(\"La persona no está registrada.\")\n",
        "\n",
        "\n",
        "registro = []\n",
        "\n",
        "print('''HOLA!,Bienvenido al Registro de Ciudadanos\n",
        "Pueblo del sur de Andalucía, España\")\n",
        "======================================''')\n",
        "\n",
        "while True:\n",
        "    print(\"\\n-----<Menu Principal>-----\")\n",
        "    print(\"1) Guardar datos en el sistema\")\n",
        "    print(\"2) Desea buscar alguna persona?\")\n",
        "    print(\"3) Imprimir certificados disponibles(Nacimiento- Estado conyugal- Perteneciente a la Union Europea)\")\n",
        "    print(\"4) Abandonar el sistema\")\n",
        "\n",
        "    opcion = input(\"Seleccione el tramite que desea realizar: \")\n",
        "\n",
        "    if opcion == \"1\":\n",
        "        grabar_registro(registro)\n",
        "    elif opcion == \"2\":\n",
        "        buscar_persona(registro)\n",
        "    elif opcion == \"3\":\n",
        "        imprimir_certificados(registro)\n",
        "    elif opcion == \"4\":\n",
        "        print('''\n",
        "¡Gracias por utilizar el Registro de Ciudadanos, vuelva pronto!)\n",
        "<<<BENJAMIN RIVEROS>>>\n",
        "Versión del programa: 1.0''')\n",
        "        break\n"
      ]
    },
    {
      "cell_type": "code",
      "execution_count": null,
      "metadata": {
        "id": "xkZxrbl4JqB2"
      },
      "outputs": [],
      "source": []
    }
  ],
  "metadata": {
    "colab": {
      "provenance": [],
      "authorship_tag": "ABX9TyM+jMiKJNZZRJ16aJTxpUxp",
      "include_colab_link": true
    },
    "kernelspec": {
      "display_name": "Python 3",
      "name": "python3"
    },
    "language_info": {
      "name": "python"
    }
  },
  "nbformat": 4,
  "nbformat_minor": 0
}